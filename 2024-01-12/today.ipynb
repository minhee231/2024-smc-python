{
 "cells": [
  {
   "cell_type": "code",
   "execution_count": 1,
   "metadata": {},
   "outputs": [
    {
     "name": "stdout",
     "output_type": "stream",
     "text": [
      "현재 넘버: 698\n",
      "운지1\n",
      "운지2\n",
      "운지3\n",
      "운지4\n",
      "운지5\n",
      "운지6\n",
      "현재 넘버: 699\n",
      "운지1\n",
      "운지2\n",
      "운지3\n",
      "운지4\n",
      "운지5\n",
      "운지6\n",
      "현재 넘버: 700\n",
      "운지1\n",
      "운지2\n",
      "운지3\n"
     ]
    }
   ],
   "source": [
    "from selenium import webdriver\n",
    "from selenium.webdriver.common.by import By\n",
    "from selenium.webdriver.common.keys import Keys\n",
    "import time\n",
    "\n",
    "global driver\n",
    "driver = webdriver.Chrome()\n",
    "\n",
    "driver.get('https://www.nextedition.co.kr/shops/Nextedition%20Sinlim')\n",
    "driver.implicitly_wait(6000)\n",
    "\n",
    "def inputInfor():\n",
    "    global driver\n",
    "    \n",
    "    name_element = driver.find_element(By.ID,'name')\n",
    "    phoneNumber_element = driver.find_element(By.ID,'phoneNumber')\n",
    "    cl = driver.find_element(By.XPATH,'/html/body/div[7]/div/div/div[3]/button[2]')\n",
    "\n",
    "    name_element.send_keys('양지환')\n",
    "    time.sleep(0.2)\n",
    "    phoneNumber_element.send_keys('010-1234-1234')\n",
    "    time.sleep(0.2)\n",
    "    cl.click()\n",
    "    \n",
    "\n",
    "for i in range(698,703):\n",
    "    try:\n",
    "        dPdir = driver.find_element(By.ID,f'round{i}')\n",
    "        dPdir.click()\n",
    "\n",
    "        print(f\"현재 넘버: {i}\")\n",
    "\n",
    "\n",
    "        name_element = driver.find_element(By.ID,'name')\n",
    "        print(\"운지1\")\n",
    "        phoneNumber_element = driver.find_element(By.ID,'phoneNumber')\n",
    "        print(\"운지2\")\n",
    "        cl = driver.find_element(By.XPATH,'/html/body/div[7]/div/div/div[3]/button[2]')\n",
    "        print(\"운지3\")\n",
    "\n",
    "        name_element.send_keys('양지환')\n",
    "        print(\"운지4\")    \n",
    "        time.sleep(0.2)\n",
    "        phoneNumber_element.send_keys('010-1234-1234')\n",
    "        print(\"운지5\")\n",
    "        time.sleep(0.2)\n",
    "        cl.click()\n",
    "        print(\"운지6\")\n",
    "    except: continue\n",
    "    \n",
    "time.sleep(1000)"
   ]
  }
 ],
 "metadata": {
  "kernelspec": {
   "display_name": "Python 3",
   "language": "python",
   "name": "python3"
  },
  "language_info": {
   "codemirror_mode": {
    "name": "ipython",
    "version": 3
   },
   "file_extension": ".py",
   "mimetype": "text/x-python",
   "name": "python",
   "nbconvert_exporter": "python",
   "pygments_lexer": "ipython3",
   "version": "3.10.10"
  }
 },
 "nbformat": 4,
 "nbformat_minor": 2
}
