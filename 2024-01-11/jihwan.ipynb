{
 "cells": [
  {
   "cell_type": "code",
   "execution_count": 1,
   "metadata": {},
   "outputs": [],
   "source": [
    "from selenium import webdriver\n",
    "from selenium.webdriver.common.by import By\n",
    "from selenium.webdriver.common.keys import Keys\n",
    "import time\n",
    "import pyperclip\n",
    "\n",
    "driver = webdriver.Chrome()\n",
    "\n",
    "driver.get('https://mail.naver.com/')\n",
    "\n",
    "#로그인 수동으로 하셈\n",
    "\n"
   ]
  },
  {
   "cell_type": "code",
   "execution_count": 2,
   "metadata": {},
   "outputs": [
    {
     "ename": "UnexpectedAlertPresentException",
     "evalue": "Alert Text: {Alert text : \nMessage: unexpected alert open: {Alert text : }\n  (Session info: chrome=120.0.6099.200)\nStacktrace:\n\tGetHandleVerifier [0x00007FF6AF0A2142+3514994]\n\t(No symbol) [0x00007FF6AECC0CE2]\n\t(No symbol) [0x00007FF6AEB676AA]\n\t(No symbol) [0x00007FF6AEBF2CCC]\n\t(No symbol) [0x00007FF6AEBD5D93]\n\t(No symbol) [0x00007FF6AEBA4BDC]\n\t(No symbol) [0x00007FF6AEBA5C64]\n\tGetHandleVerifier [0x00007FF6AF0CE16B+3695259]\n\tGetHandleVerifier [0x00007FF6AF126737+4057191]\n\tGetHandleVerifier [0x00007FF6AF11E4E3+4023827]\n\tGetHandleVerifier [0x00007FF6AEDF04F9+689705]\n\t(No symbol) [0x00007FF6AECCC048]\n\t(No symbol) [0x00007FF6AECC8044]\n\t(No symbol) [0x00007FF6AECC81C9]\n\t(No symbol) [0x00007FF6AECB88C4]\n\tBaseThreadInitThunk [0x00007FFAE8907344+20]\n\tRtlUserThreadStart [0x00007FFAE8A426B1+33]\n",
     "output_type": "error",
     "traceback": [
      "\u001b[1;31m---------------------------------------------------------------------------\u001b[0m",
      "\u001b[1;31mUnexpectedAlertPresentException\u001b[0m           Traceback (most recent call last)",
      "Cell \u001b[1;32mIn[2], line 5\u001b[0m\n\u001b[0;32m      3\u001b[0m driver\u001b[38;5;241m.\u001b[39mget(\u001b[38;5;124m'\u001b[39m\u001b[38;5;124mhttps://mail.naver.com/v2/new\u001b[39m\u001b[38;5;124m'\u001b[39m)\n\u001b[0;32m      4\u001b[0m time\u001b[38;5;241m.\u001b[39msleep(\u001b[38;5;241m0.2\u001b[39m)\n\u001b[1;32m----> 5\u001b[0m sen \u001b[38;5;241m=\u001b[39m \u001b[43mdriver\u001b[49m\u001b[38;5;241;43m.\u001b[39;49m\u001b[43mfind_element\u001b[49m\u001b[43m(\u001b[49m\u001b[43mBy\u001b[49m\u001b[38;5;241;43m.\u001b[39;49m\u001b[43mID\u001b[49m\u001b[43m,\u001b[49m\u001b[38;5;124;43m'\u001b[39;49m\u001b[38;5;124;43mrecipient_input_element\u001b[39;49m\u001b[38;5;124;43m'\u001b[39;49m\u001b[43m)\u001b[49m\n\u001b[0;32m      6\u001b[0m sen\u001b[38;5;241m.\u001b[39msend_keys(\u001b[38;5;124m'\u001b[39m\u001b[38;5;124myjihwan43@gmail.com\u001b[39m\u001b[38;5;124m'\u001b[39m)\n\u001b[0;32m      7\u001b[0m time\u001b[38;5;241m.\u001b[39msleep(\u001b[38;5;241m0.2\u001b[39m)\n",
      "File \u001b[1;32mc:\\Users\\goomi\\AppData\\Local\\Programs\\Python\\Python310\\lib\\site-packages\\selenium\\webdriver\\remote\\webdriver.py:738\u001b[0m, in \u001b[0;36mWebDriver.find_element\u001b[1;34m(self, by, value)\u001b[0m\n\u001b[0;32m    735\u001b[0m     by \u001b[38;5;241m=\u001b[39m By\u001b[38;5;241m.\u001b[39mCSS_SELECTOR\n\u001b[0;32m    736\u001b[0m     value \u001b[38;5;241m=\u001b[39m \u001b[38;5;124mf\u001b[39m\u001b[38;5;124m'\u001b[39m\u001b[38;5;124m[name=\u001b[39m\u001b[38;5;124m\"\u001b[39m\u001b[38;5;132;01m{\u001b[39;00mvalue\u001b[38;5;132;01m}\u001b[39;00m\u001b[38;5;124m\"\u001b[39m\u001b[38;5;124m]\u001b[39m\u001b[38;5;124m'\u001b[39m\n\u001b[1;32m--> 738\u001b[0m \u001b[38;5;28;01mreturn\u001b[39;00m \u001b[38;5;28;43mself\u001b[39;49m\u001b[38;5;241;43m.\u001b[39;49m\u001b[43mexecute\u001b[49m\u001b[43m(\u001b[49m\u001b[43mCommand\u001b[49m\u001b[38;5;241;43m.\u001b[39;49m\u001b[43mFIND_ELEMENT\u001b[49m\u001b[43m,\u001b[49m\u001b[43m \u001b[49m\u001b[43m{\u001b[49m\u001b[38;5;124;43m\"\u001b[39;49m\u001b[38;5;124;43musing\u001b[39;49m\u001b[38;5;124;43m\"\u001b[39;49m\u001b[43m:\u001b[49m\u001b[43m \u001b[49m\u001b[43mby\u001b[49m\u001b[43m,\u001b[49m\u001b[43m \u001b[49m\u001b[38;5;124;43m\"\u001b[39;49m\u001b[38;5;124;43mvalue\u001b[39;49m\u001b[38;5;124;43m\"\u001b[39;49m\u001b[43m:\u001b[49m\u001b[43m \u001b[49m\u001b[43mvalue\u001b[49m\u001b[43m}\u001b[49m\u001b[43m)\u001b[49m[\u001b[38;5;124m\"\u001b[39m\u001b[38;5;124mvalue\u001b[39m\u001b[38;5;124m\"\u001b[39m]\n",
      "File \u001b[1;32mc:\\Users\\goomi\\AppData\\Local\\Programs\\Python\\Python310\\lib\\site-packages\\selenium\\webdriver\\remote\\webdriver.py:344\u001b[0m, in \u001b[0;36mWebDriver.execute\u001b[1;34m(self, driver_command, params)\u001b[0m\n\u001b[0;32m    342\u001b[0m response \u001b[38;5;241m=\u001b[39m \u001b[38;5;28mself\u001b[39m\u001b[38;5;241m.\u001b[39mcommand_executor\u001b[38;5;241m.\u001b[39mexecute(driver_command, params)\n\u001b[0;32m    343\u001b[0m \u001b[38;5;28;01mif\u001b[39;00m response:\n\u001b[1;32m--> 344\u001b[0m     \u001b[38;5;28;43mself\u001b[39;49m\u001b[38;5;241;43m.\u001b[39;49m\u001b[43merror_handler\u001b[49m\u001b[38;5;241;43m.\u001b[39;49m\u001b[43mcheck_response\u001b[49m\u001b[43m(\u001b[49m\u001b[43mresponse\u001b[49m\u001b[43m)\u001b[49m\n\u001b[0;32m    345\u001b[0m     response[\u001b[38;5;124m\"\u001b[39m\u001b[38;5;124mvalue\u001b[39m\u001b[38;5;124m\"\u001b[39m] \u001b[38;5;241m=\u001b[39m \u001b[38;5;28mself\u001b[39m\u001b[38;5;241m.\u001b[39m_unwrap_value(response\u001b[38;5;241m.\u001b[39mget(\u001b[38;5;124m\"\u001b[39m\u001b[38;5;124mvalue\u001b[39m\u001b[38;5;124m\"\u001b[39m, \u001b[38;5;28;01mNone\u001b[39;00m))\n\u001b[0;32m    346\u001b[0m     \u001b[38;5;28;01mreturn\u001b[39;00m response\n",
      "File \u001b[1;32mc:\\Users\\goomi\\AppData\\Local\\Programs\\Python\\Python310\\lib\\site-packages\\selenium\\webdriver\\remote\\errorhandler.py:228\u001b[0m, in \u001b[0;36mErrorHandler.check_response\u001b[1;34m(self, response)\u001b[0m\n\u001b[0;32m    226\u001b[0m     \u001b[38;5;28;01melif\u001b[39;00m \u001b[38;5;124m\"\u001b[39m\u001b[38;5;124malert\u001b[39m\u001b[38;5;124m\"\u001b[39m \u001b[38;5;129;01min\u001b[39;00m value:\n\u001b[0;32m    227\u001b[0m         alert_text \u001b[38;5;241m=\u001b[39m value[\u001b[38;5;124m\"\u001b[39m\u001b[38;5;124malert\u001b[39m\u001b[38;5;124m\"\u001b[39m]\u001b[38;5;241m.\u001b[39mget(\u001b[38;5;124m\"\u001b[39m\u001b[38;5;124mtext\u001b[39m\u001b[38;5;124m\"\u001b[39m)\n\u001b[1;32m--> 228\u001b[0m     \u001b[38;5;28;01mraise\u001b[39;00m exception_class(message, screen, stacktrace, alert_text)  \u001b[38;5;66;03m# type: ignore[call-arg]  # mypy is not smart enough here\u001b[39;00m\n\u001b[0;32m    229\u001b[0m \u001b[38;5;28;01mraise\u001b[39;00m exception_class(message, screen, stacktrace)\n",
      "\u001b[1;31mUnexpectedAlertPresentException\u001b[0m: Alert Text: {Alert text : \nMessage: unexpected alert open: {Alert text : }\n  (Session info: chrome=120.0.6099.200)\nStacktrace:\n\tGetHandleVerifier [0x00007FF6AF0A2142+3514994]\n\t(No symbol) [0x00007FF6AECC0CE2]\n\t(No symbol) [0x00007FF6AEB676AA]\n\t(No symbol) [0x00007FF6AEBF2CCC]\n\t(No symbol) [0x00007FF6AEBD5D93]\n\t(No symbol) [0x00007FF6AEBA4BDC]\n\t(No symbol) [0x00007FF6AEBA5C64]\n\tGetHandleVerifier [0x00007FF6AF0CE16B+3695259]\n\tGetHandleVerifier [0x00007FF6AF126737+4057191]\n\tGetHandleVerifier [0x00007FF6AF11E4E3+4023827]\n\tGetHandleVerifier [0x00007FF6AEDF04F9+689705]\n\t(No symbol) [0x00007FF6AECCC048]\n\t(No symbol) [0x00007FF6AECC8044]\n\t(No symbol) [0x00007FF6AECC81C9]\n\t(No symbol) [0x00007FF6AECB88C4]\n\tBaseThreadInitThunk [0x00007FFAE8907344+20]\n\tRtlUserThreadStart [0x00007FFAE8A426B1+33]\n"
     ]
    }
   ],
   "source": [
    "\n",
    "\n",
    "for i in range(10):\n",
    "    # sen = driver.find_element(By.XPATH,'/html/body/div[2]/div/div[2]/div/div/div[3]/div/div[1]/div[1]/div/div[2]/div[1]/input[1]')\n",
    "    driver.get('https://mail.naver.com/v2/new')\n",
    "    time.sleep(0.2)\n",
    "    sen = driver.find_element(By.ID,'recipient_input_element')\n",
    "    sen.send_keys('yjihwan43@gmail.com')\n",
    "    time.sleep(0.2)\n",
    "\n",
    "    teext = \"\"\"\n",
    "    ＜￣｀ヽ、　　　　부엉　／￣＞\n",
    "    　ゝ、　　＼　／⌒ヽ,ノ 　/´\n",
    "    　　　ゝ、　`（ ´･ω･)／\n",
    "    　　 　　>　 　 　,ノ 　\n",
    "    　　　　　∠_,,,/´””\n",
    "    \"\"\"\n",
    "    pyperclip.copy(teext)\n",
    "\n",
    "\n",
    "    super_element = driver.find_element(By.XPATH,'/html/body/div[2]/div/div[2]/div/div/div[3]/div/div[1]/div[5]/div/div[2]/div/input')\n",
    "    super_element.send_keys(f'{i}지환쌤 사랑하는거 알죠?')\n",
    "    super_element.send_keys(Keys.TAB)\n",
    "    time.sleep(0.2)\n",
    "    pyperclip.paste()\n",
    "    time.sleep(0.2)\n",
    "\n",
    "    send_element = driver.find_element(By.XPATH,'/html/body/div[2]/div/div[2]/div/div/div[2]/div[1]/div/button[1]')\n",
    "    send_element.click()\n",
    "    time.sleep(0.2)"
   ]
  },
  {
   "cell_type": "code",
   "execution_count": null,
   "metadata": {},
   "outputs": [],
   "source": []
  }
 ],
 "metadata": {
  "kernelspec": {
   "display_name": "Python 3",
   "language": "python",
   "name": "python3"
  },
  "language_info": {
   "codemirror_mode": {
    "name": "ipython",
    "version": 3
   },
   "file_extension": ".py",
   "mimetype": "text/x-python",
   "name": "python",
   "nbconvert_exporter": "python",
   "pygments_lexer": "ipython3",
   "version": "3.10.10"
  }
 },
 "nbformat": 4,
 "nbformat_minor": 2
}
