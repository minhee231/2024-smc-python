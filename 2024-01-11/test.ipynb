{
 "cells": [
  {
   "cell_type": "code",
   "execution_count": 1,
   "metadata": {},
   "outputs": [],
   "source": [
    "from selenium import webdriver\n",
    "from selenium.webdriver.common.by import By\n",
    "from selenium.webdriver.common.keys import Keys#두번째 K 대문자임\n",
    "import time\n",
    "\n",
    "driver = webdriver.Chrome()\n",
    "\n",
    "driver.get('https://www.naver.com')\n",
    "\n",
    "login_btn = driver.find_element(By.CLASS_NAME,'MyView-module__link_login___HpHMW')\n",
    "login_btn.click()\n",
    "\n",
    "naver_id = driver.find_element(By.NAME,'id')\n",
    "naver_pw = driver.find_element(By.NAME,'pw')\n",
    "\n",
    "# my_id = 'goominhee12345'\n",
    "# my_passwd = 'goominhee123'\n",
    "\n",
    "# naver_id.click()\n",
    "# naver_id.send_keys(my_id)\n",
    "# time.sleep(1)\n",
    "\n",
    "# naver_pw.click()\n",
    "# naver_pw.send_keys(my_passwd)\n",
    "# naver_pw.send_keys(Keys.RETURN)\n",
    "# time.sleep(1)\n",
    "\n",
    "# driver.find_element(By.CLASS_NAME,'btn_login').click()\n"
   ]
  },
  {
   "cell_type": "code",
   "execution_count": 2,
   "metadata": {},
   "outputs": [],
   "source": [
    "from bs4 import BeautifulSoup as bs\n",
    "##웹데이터를 파이썬에서 가공할수 있게해주는 뷰티풀숲\n",
    "\n",
    "driver.get(\"https://naver.com/\")"
   ]
  },
  {
   "cell_type": "code",
   "execution_count": 4,
   "metadata": {},
   "outputs": [
    {
     "ename": "NoSuchElementException",
     "evalue": "Message: no such element: Unable to locate element: {\"method\":\"css selector\",\"selector\":\".MyView-module__link_login___HpHMW\"}\n  (Session info: chrome=120.0.6099.200); For documentation on this error, please visit: https://www.selenium.dev/documentation/webdriver/troubleshooting/errors#no-such-element-exception\nStacktrace:\n\tGetHandleVerifier [0x00007FF6AF0A2142+3514994]\n\t(No symbol) [0x00007FF6AECC0CE2]\n\t(No symbol) [0x00007FF6AEB676AA]\n\t(No symbol) [0x00007FF6AEBB1860]\n\t(No symbol) [0x00007FF6AEBB197C]\n\t(No symbol) [0x00007FF6AEBF4EE7]\n\t(No symbol) [0x00007FF6AEBD602F]\n\t(No symbol) [0x00007FF6AEBF28F6]\n\t(No symbol) [0x00007FF6AEBD5D93]\n\t(No symbol) [0x00007FF6AEBA4BDC]\n\t(No symbol) [0x00007FF6AEBA5C64]\n\tGetHandleVerifier [0x00007FF6AF0CE16B+3695259]\n\tGetHandleVerifier [0x00007FF6AF126737+4057191]\n\tGetHandleVerifier [0x00007FF6AF11E4E3+4023827]\n\tGetHandleVerifier [0x00007FF6AEDF04F9+689705]\n\t(No symbol) [0x00007FF6AECCC048]\n\t(No symbol) [0x00007FF6AECC8044]\n\t(No symbol) [0x00007FF6AECC81C9]\n\t(No symbol) [0x00007FF6AECB88C4]\n\tBaseThreadInitThunk [0x00007FFAE8907344+20]\n\tRtlUserThreadStart [0x00007FFAE8A426B1+33]\n",
     "output_type": "error",
     "traceback": [
      "\u001b[1;31m---------------------------------------------------------------------------\u001b[0m",
      "\u001b[1;31mNoSuchElementException\u001b[0m                    Traceback (most recent call last)",
      "Cell \u001b[1;32mIn[4], line 1\u001b[0m\n\u001b[1;32m----> 1\u001b[0m login_btn \u001b[38;5;241m=\u001b[39m \u001b[43mdriver\u001b[49m\u001b[38;5;241;43m.\u001b[39;49m\u001b[43mfind_element\u001b[49m\u001b[43m(\u001b[49m\u001b[43mBy\u001b[49m\u001b[38;5;241;43m.\u001b[39;49m\u001b[43mCLASS_NAME\u001b[49m\u001b[43m,\u001b[49m\u001b[38;5;124;43m'\u001b[39;49m\u001b[38;5;124;43mMyView-module__link_login___HpHMW\u001b[39;49m\u001b[38;5;124;43m'\u001b[39;49m\u001b[43m)\u001b[49m\n\u001b[0;32m      2\u001b[0m login_btn\u001b[38;5;241m.\u001b[39mclick()\n",
      "File \u001b[1;32mc:\\Users\\goomi\\AppData\\Local\\Programs\\Python\\Python310\\lib\\site-packages\\selenium\\webdriver\\remote\\webdriver.py:738\u001b[0m, in \u001b[0;36mWebDriver.find_element\u001b[1;34m(self, by, value)\u001b[0m\n\u001b[0;32m    735\u001b[0m     by \u001b[38;5;241m=\u001b[39m By\u001b[38;5;241m.\u001b[39mCSS_SELECTOR\n\u001b[0;32m    736\u001b[0m     value \u001b[38;5;241m=\u001b[39m \u001b[38;5;124mf\u001b[39m\u001b[38;5;124m'\u001b[39m\u001b[38;5;124m[name=\u001b[39m\u001b[38;5;124m\"\u001b[39m\u001b[38;5;132;01m{\u001b[39;00mvalue\u001b[38;5;132;01m}\u001b[39;00m\u001b[38;5;124m\"\u001b[39m\u001b[38;5;124m]\u001b[39m\u001b[38;5;124m'\u001b[39m\n\u001b[1;32m--> 738\u001b[0m \u001b[38;5;28;01mreturn\u001b[39;00m \u001b[38;5;28;43mself\u001b[39;49m\u001b[38;5;241;43m.\u001b[39;49m\u001b[43mexecute\u001b[49m\u001b[43m(\u001b[49m\u001b[43mCommand\u001b[49m\u001b[38;5;241;43m.\u001b[39;49m\u001b[43mFIND_ELEMENT\u001b[49m\u001b[43m,\u001b[49m\u001b[43m \u001b[49m\u001b[43m{\u001b[49m\u001b[38;5;124;43m\"\u001b[39;49m\u001b[38;5;124;43musing\u001b[39;49m\u001b[38;5;124;43m\"\u001b[39;49m\u001b[43m:\u001b[49m\u001b[43m \u001b[49m\u001b[43mby\u001b[49m\u001b[43m,\u001b[49m\u001b[43m \u001b[49m\u001b[38;5;124;43m\"\u001b[39;49m\u001b[38;5;124;43mvalue\u001b[39;49m\u001b[38;5;124;43m\"\u001b[39;49m\u001b[43m:\u001b[49m\u001b[43m \u001b[49m\u001b[43mvalue\u001b[49m\u001b[43m}\u001b[49m\u001b[43m)\u001b[49m[\u001b[38;5;124m\"\u001b[39m\u001b[38;5;124mvalue\u001b[39m\u001b[38;5;124m\"\u001b[39m]\n",
      "File \u001b[1;32mc:\\Users\\goomi\\AppData\\Local\\Programs\\Python\\Python310\\lib\\site-packages\\selenium\\webdriver\\remote\\webdriver.py:344\u001b[0m, in \u001b[0;36mWebDriver.execute\u001b[1;34m(self, driver_command, params)\u001b[0m\n\u001b[0;32m    342\u001b[0m response \u001b[38;5;241m=\u001b[39m \u001b[38;5;28mself\u001b[39m\u001b[38;5;241m.\u001b[39mcommand_executor\u001b[38;5;241m.\u001b[39mexecute(driver_command, params)\n\u001b[0;32m    343\u001b[0m \u001b[38;5;28;01mif\u001b[39;00m response:\n\u001b[1;32m--> 344\u001b[0m     \u001b[38;5;28;43mself\u001b[39;49m\u001b[38;5;241;43m.\u001b[39;49m\u001b[43merror_handler\u001b[49m\u001b[38;5;241;43m.\u001b[39;49m\u001b[43mcheck_response\u001b[49m\u001b[43m(\u001b[49m\u001b[43mresponse\u001b[49m\u001b[43m)\u001b[49m\n\u001b[0;32m    345\u001b[0m     response[\u001b[38;5;124m\"\u001b[39m\u001b[38;5;124mvalue\u001b[39m\u001b[38;5;124m\"\u001b[39m] \u001b[38;5;241m=\u001b[39m \u001b[38;5;28mself\u001b[39m\u001b[38;5;241m.\u001b[39m_unwrap_value(response\u001b[38;5;241m.\u001b[39mget(\u001b[38;5;124m\"\u001b[39m\u001b[38;5;124mvalue\u001b[39m\u001b[38;5;124m\"\u001b[39m, \u001b[38;5;28;01mNone\u001b[39;00m))\n\u001b[0;32m    346\u001b[0m     \u001b[38;5;28;01mreturn\u001b[39;00m response\n",
      "File \u001b[1;32mc:\\Users\\goomi\\AppData\\Local\\Programs\\Python\\Python310\\lib\\site-packages\\selenium\\webdriver\\remote\\errorhandler.py:229\u001b[0m, in \u001b[0;36mErrorHandler.check_response\u001b[1;34m(self, response)\u001b[0m\n\u001b[0;32m    227\u001b[0m         alert_text \u001b[38;5;241m=\u001b[39m value[\u001b[38;5;124m\"\u001b[39m\u001b[38;5;124malert\u001b[39m\u001b[38;5;124m\"\u001b[39m]\u001b[38;5;241m.\u001b[39mget(\u001b[38;5;124m\"\u001b[39m\u001b[38;5;124mtext\u001b[39m\u001b[38;5;124m\"\u001b[39m)\n\u001b[0;32m    228\u001b[0m     \u001b[38;5;28;01mraise\u001b[39;00m exception_class(message, screen, stacktrace, alert_text)  \u001b[38;5;66;03m# type: ignore[call-arg]  # mypy is not smart enough here\u001b[39;00m\n\u001b[1;32m--> 229\u001b[0m \u001b[38;5;28;01mraise\u001b[39;00m exception_class(message, screen, stacktrace)\n",
      "\u001b[1;31mNoSuchElementException\u001b[0m: Message: no such element: Unable to locate element: {\"method\":\"css selector\",\"selector\":\".MyView-module__link_login___HpHMW\"}\n  (Session info: chrome=120.0.6099.200); For documentation on this error, please visit: https://www.selenium.dev/documentation/webdriver/troubleshooting/errors#no-such-element-exception\nStacktrace:\n\tGetHandleVerifier [0x00007FF6AF0A2142+3514994]\n\t(No symbol) [0x00007FF6AECC0CE2]\n\t(No symbol) [0x00007FF6AEB676AA]\n\t(No symbol) [0x00007FF6AEBB1860]\n\t(No symbol) [0x00007FF6AEBB197C]\n\t(No symbol) [0x00007FF6AEBF4EE7]\n\t(No symbol) [0x00007FF6AEBD602F]\n\t(No symbol) [0x00007FF6AEBF28F6]\n\t(No symbol) [0x00007FF6AEBD5D93]\n\t(No symbol) [0x00007FF6AEBA4BDC]\n\t(No symbol) [0x00007FF6AEBA5C64]\n\tGetHandleVerifier [0x00007FF6AF0CE16B+3695259]\n\tGetHandleVerifier [0x00007FF6AF126737+4057191]\n\tGetHandleVerifier [0x00007FF6AF11E4E3+4023827]\n\tGetHandleVerifier [0x00007FF6AEDF04F9+689705]\n\t(No symbol) [0x00007FF6AECCC048]\n\t(No symbol) [0x00007FF6AECC8044]\n\t(No symbol) [0x00007FF6AECC81C9]\n\t(No symbol) [0x00007FF6AECB88C4]\n\tBaseThreadInitThunk [0x00007FFAE8907344+20]\n\tRtlUserThreadStart [0x00007FFAE8A426B1+33]\n"
     ]
    }
   ],
   "source": [
    "login_btn = driver.find_element(By.CLASS_NAME,'MyView-module__link_login___HpHMW')\n",
    "login_btn.click()"
   ]
  },
  {
   "cell_type": "code",
   "execution_count": 4,
   "metadata": {},
   "outputs": [
    {
     "name": "stdout",
     "output_type": "stream",
     "text": [
      "새로운 환경에서 로그인 되었습니다.\n",
      "새로운 환경에서 로그인 되었습니다.\n",
      "새로운 환경에서 로그인 되었습니다.\n",
      "[와디즈] 휴면계정 해제 안내\n",
      "[네이버페이] 개인정보 이용내역을 안내 드립니다.\n",
      "네이버파이낸셜 마케팅 정보 수신 동의 현황을 안내드립니다.\n",
      "네이버파이낸셜 마케팅 정보 수신 동의 현황을 안내드립니다.\n",
      "[네이버] 개인정보 이용내역을 안내 드립니다.\n",
      "광고성 정보 수신 동의 재확인 안내입니다.\n",
      "[카카오페이지] 기존 휴면유저 복귀 개별 안내\n",
      "네이버페이 이용약관 및 전자금융거래 약관 개정 안내\n",
      "새로운 환경에서 로그인 되었습니다.\n",
      "[네이버 메일] 1차 휴면이 해지되어 메일을 받을 수 있습니다.\n",
      "네이버페이 이용약관 개정 안내\n",
      "[네이버웹툰] 개인정보 이용내역 안내\n",
      "[네이버웹툰]시리즈온 서비스 영업 양도에 따른 개인정보 이전 및 약관 개정 안내\n",
      "새로운 환경에서 로그인 되었습니다.\n",
      "새로운 환경에서 로그인 되었습니다.\n",
      "[티몬] 장기간 미이용 고객님께 드리는 안내\n",
      "네이버 지식iN 서비스 운영 정책 개정 안내\n",
      "[네이버페이] 개인정보 이용내역을 안내 드립니다.\n",
      "새로운 환경에서 로그인 되었습니다.\n",
      "새로운 환경에서 로그인 되었습니다.\n",
      "새로운 환경에서 로그인 되었습니다.\n",
      "새로운 환경에서 로그인 되었습니다.\n",
      "[티몬] 개인정보이용내역 안내\n",
      "[네이버 블로그] 블로그 주소 설정 관련 안내\n",
      "[안내] 카카오페이지 이용약관 및 유료서비스 이용약관 개정 안내\n",
      "[네이버웹툰]개인정보 이용내역 안내\n",
      "네이버웹툰(유) 전용상품권 가격 변경 안내\n",
      "안읽음\n",
      "중요\n",
      "첨부\n",
      "TO\n"
     ]
    }
   ],
   "source": [
    "html=driver.page_source\n",
    "soup = bs(html, 'html.parser')\n",
    "title_list = soup.select('div>a>span.text')\n",
    "for title in title_list:\n",
    "    print(title.text)"
   ]
  },
  {
   "cell_type": "code",
   "execution_count": 6,
   "metadata": {},
   "outputs": [],
   "source": [
    "import pyautogui as pag\n",
    "\n",
    "pag.typewrite('goominhee1235',interval=0.1)\n",
    "pag.click(x=381, y=421)\n",
    "pag.typewrite('abcdefg',interval=0.1)\n",
    "pag.press('tab')\n",
    "pag.typewrite('abcdefg', interval=0.1)\n",
    "pag.press('enter')"
   ]
  }
 ],
 "metadata": {
  "kernelspec": {
   "display_name": "Python 3",
   "language": "python",
   "name": "python3"
  },
  "language_info": {
   "codemirror_mode": {
    "name": "ipython",
    "version": 3
   },
   "file_extension": ".py",
   "mimetype": "text/x-python",
   "name": "python",
   "nbconvert_exporter": "python",
   "pygments_lexer": "ipython3",
   "version": "3.10.10"
  }
 },
 "nbformat": 4,
 "nbformat_minor": 2
}
